{
  "nbformat": 4,
  "nbformat_minor": 0,
  "metadata": {
    "colab": {
      "name": "spirals-nw.ipynb",
      "provenance": [],
      "collapsed_sections": []
    },
    "kernelspec": {
      "name": "python3",
      "display_name": "Python 3"
    }
  },
  "cells": [
    {
      "cell_type": "code",
      "metadata": {
        "id": "dsDyEFwiwzx5",
        "colab_type": "code",
        "colab": {}
      },
      "source": [
        "!pip install neowise"
      ],
      "execution_count": null,
      "outputs": []
    },
    {
      "cell_type": "code",
      "metadata": {
        "id": "mWwCducexamc",
        "colab_type": "code",
        "colab": {}
      },
      "source": [
        "import neowise as nw\n",
        "import numpy as np\n",
        "import matplotlib.pyplot as plt\n",
        "import math\n",
        "import seaborn as sns\n",
        "from matplotlib import pyplot\n",
        "from matplotlib import cm"
      ],
      "execution_count": null,
      "outputs": []
    },
    {
      "cell_type": "code",
      "metadata": {
        "id": "7vrISIFByNu2",
        "colab_type": "code",
        "colab": {}
      },
      "source": [
        "# Data Preparation --- Two Spirals\n",
        "def twospirals(n_points, noise=0.5):\n",
        "    n = np.sqrt(np.random.rand(n_points,1)) * 780 * (2*np.pi)/360\n",
        "    d1x = -np.cos(n)*n + np.random.rand(n_points,1) * noise\n",
        "    d1y = np.sin(n)*n + np.random.rand(n_points,1) * noise\n",
        "    return (np.vstack((np.hstack((d1x,d1y)),np.hstack((-d1x,-d1y)))), \n",
        "            np.hstack((np.zeros(n_points),np.ones(n_points))))\n",
        "\n",
        "N_SAMPLES = 1000\n",
        "X_data, y_data_t = twospirals(N_SAMPLES)\n",
        "y_data = y_data_t.reshape(N_SAMPLES*2,1)\n",
        "mu1 = np.mean(X_data[:,0],axis=0)\n",
        "mu2 = np.mean(X_data[:,1],axis=0)\n",
        "var1 = np.var(X_data[:,0],axis=0)\n",
        "var2 = np.var(X_data[:,1],axis=0)\n",
        "X_data[:,0] = (X_data[:,0]-mu1)/var1\n",
        "X_data[:,1] = (X_data[:,1]-mu2)/var2\n",
        "m = int(X_data.shape[0])\n",
        "m_tr = int(math.ceil((90/100)*m))\n",
        "m_cv = int(math.ceil((5/100)*m))\n",
        "m_te = m - (m_tr + m_cv)\n",
        "X_tr = np.zeros((m_tr,X_data.shape[1]))\n",
        "y_tr_t = np.zeros((m_tr,1))\n",
        "X_cv = np.zeros((m_cv,X_data.shape[1]))\n",
        "y_cv_t = np.zeros((m_cv,1))\n",
        "X_te = np.zeros((m_te,X_data.shape[1]))\n",
        "y_te_t = np.zeros((m_te,1))\n",
        "perm = np.random.permutation(m)\n",
        "p = perm.reshape(m,1)\n",
        "for i in range(0,m_tr):\n",
        "  X_tr[i] = X_data[p[i]]\n",
        "  y_tr_t[i] = y_data[p[i]]\n",
        "for i in range(0,m_cv):\n",
        "  X_cv[i] = X_data[p[i+m_tr]]\n",
        "  y_cv_t[i] = y_data[p[i+m_tr]]\n",
        "for i in range(0,m_te):\n",
        "  X_te[i] = X_data[p[i+m_tr+m_cv]]\n",
        "  y_te_t[i] = y_data[p[i+m_tr+m_cv]]\n",
        "y_tr = y_tr_t.T\n",
        "y_cv = y_cv_t.T\n",
        "y_te = y_te_t.T\n",
        "plt.title('Training Set')\n",
        "plt.plot(X_data[y_data_t==0,0], X_data[y_data_t==0,1], '.', label='class 1')\n",
        "plt.plot(X_data[y_data_t==1,0], X_data[y_data_t==1,1], '.', label='class 2')\n",
        "plt.legend()\n",
        "plt.show()"
      ],
      "execution_count": null,
      "outputs": []
    },
    {
      "cell_type": "code",
      "metadata": {
        "id": "lErPYl9Gz12u",
        "colab_type": "code",
        "colab": {}
      },
      "source": [
        "model = nw.Model(X_tr,y_tr,X_te,y_te,X_cv,y_cv)"
      ],
      "execution_count": null,
      "outputs": []
    },
    {
      "cell_type": "code",
      "metadata": {
        "id": "0njl6usZ0U0q",
        "colab_type": "code",
        "colab": {}
      },
      "source": [
        "model.reset()\n",
        "model.add(\"dense1\",X_tr.shape[1],500,\"relu\")\n",
        "model.add(\"dense2\",500,250,\"relu\")\n",
        "model.add(\"dense3\",250,150,\"sine\")\n",
        "model.add(\"dense4\",150,100,\"sine\")\n",
        "model.add(\"dense5\",100,60,\"sine\")\n",
        "model.add(\"dense6\",60,30,\"relu\")\n",
        "model.add(\"dense7\",30,15,\"tanh\")\n",
        "model.add(\"dense8\",15,1,\"sigmoid\")"
      ],
      "execution_count": null,
      "outputs": []
    },
    {
      "cell_type": "code",
      "metadata": {
        "id": "z-wW1ENR-QRK",
        "colab_type": "code",
        "colab": {}
      },
      "source": [
        "model.summary()"
      ],
      "execution_count": null,
      "outputs": []
    },
    {
      "cell_type": "code",
      "metadata": {
        "id": "tOII05RI-QoQ",
        "colab_type": "code",
        "colab": {}
      },
      "source": [
        "model.fit(X_tr,y_tr,0.005,15,\"Adam\",\"Binary\",mb=32,alpha_decay=True)"
      ],
      "execution_count": null,
      "outputs": []
    },
    {
      "cell_type": "code",
      "metadata": {
        "id": "T9Gt48ZBA0Ok",
        "colab_type": "code",
        "colab": {}
      },
      "source": [
        "model.test(X_te,y_te,\"Binary\")"
      ],
      "execution_count": null,
      "outputs": []
    },
    {
      "cell_type": "code",
      "metadata": {
        "id": "oJ0NyG95BGIZ",
        "colab_type": "code",
        "colab": {}
      },
      "source": [
        "model.plot(\"Cost\")"
      ],
      "execution_count": null,
      "outputs": []
    },
    {
      "cell_type": "code",
      "metadata": {
        "id": "Qy0_uXhUBOxj",
        "colab_type": "code",
        "colab": {}
      },
      "source": [
        "model.plot(\"Accuracy\")"
      ],
      "execution_count": null,
      "outputs": []
    },
    {
      "cell_type": "markdown",
      "metadata": {
        "id": "gFZhEPIDUtJw",
        "colab_type": "text"
      },
      "source": [
        "## Replace contents of argument \"direc\" with the directory you want to save the images!\n",
        "\n",
        "## For saving and loading the model, pass the directory in which you want to save the file as the argument and append it by the name of the file with .h5 extension!"
      ]
    },
    {
      "cell_type": "code",
      "metadata": {
        "id": "ynlL7BWJBgr2",
        "colab_type": "code",
        "colab": {}
      },
      "source": [
        "model.plot(\"Cost\",animate=True,direc='/content/drive/My Drive/neowise/spirals/spirals-costs/')"
      ],
      "execution_count": null,
      "outputs": []
    },
    {
      "cell_type": "code",
      "metadata": {
        "id": "zSUiISWuBqit",
        "colab_type": "code",
        "colab": {}
      },
      "source": [
        "model.plot(\"Accuracy\",animate=True,direc='/content/drive/My Drive/neowise/spirals/spirals-accu/')"
      ],
      "execution_count": null,
      "outputs": []
    },
    {
      "cell_type": "code",
      "metadata": {
        "id": "77Qn4WDaCulk",
        "colab_type": "code",
        "colab": {}
      },
      "source": [
        "model.save_model('/content/drive/My Drive/neowise/spirals/spirals.h5')"
      ],
      "execution_count": null,
      "outputs": []
    },
    {
      "cell_type": "code",
      "metadata": {
        "id": "813VAqf9DT2w",
        "colab_type": "code",
        "colab": {}
      },
      "source": [
        "model1 = nw.Model(X_tr,y_tr,X_te,y_te,X_cv,y_cv)"
      ],
      "execution_count": null,
      "outputs": []
    },
    {
      "cell_type": "code",
      "metadata": {
        "id": "3GWphRk7EHiD",
        "colab_type": "code",
        "colab": {}
      },
      "source": [
        "model1.load_model('/content/drive/My Drive/neowise/spirals/spirals.h5')"
      ],
      "execution_count": null,
      "outputs": []
    },
    {
      "cell_type": "code",
      "metadata": {
        "id": "3g3MAet3HSxx",
        "colab_type": "code",
        "colab": {}
      },
      "source": [
        "model1.summary()"
      ],
      "execution_count": null,
      "outputs": []
    },
    {
      "cell_type": "code",
      "metadata": {
        "id": "PmtMzSNxH9MA",
        "colab_type": "code",
        "colab": {}
      },
      "source": [
        "model1.test(X_te,y_te,\"Binary\")"
      ],
      "execution_count": null,
      "outputs": []
    },
    {
      "cell_type": "code",
      "metadata": {
        "id": "xuiZtBn-I51i",
        "colab_type": "code",
        "colab": {}
      },
      "source": [
        "sns.set_style(\"whitegrid\")\n",
        "GRID_X_START = 0.5\n",
        "GRID_X_END = -0.5\n",
        "GRID_Y_START = 0.5\n",
        "GRID_Y_END = -0.5\n",
        "OUTPUT_DIR = \"/content/drive/My Drive/neowise/spirals/spirals-vis\"\n",
        "grid = np.mgrid[GRID_X_START:GRID_X_END:100j,GRID_X_START:GRID_Y_END:100j]\n",
        "grid_2d = grid.reshape(2,-1)\n",
        "XX, YY = grid\n",
        "def make_plot(X, y, plot_name, file_name=None, XX=None, YY=None, preds=None, dark=False):\n",
        "    if (dark):\n",
        "        plt.style.use('dark_background')\n",
        "    else:\n",
        "        sns.set_style(\"whitegrid\")\n",
        "    plt.figure(figsize=(16,12))\n",
        "    axes = plt.gca()\n",
        "    axes.set(xlabel=\"$X_1$\", ylabel=\"$X_2$\")\n",
        "    plt.title(plot_name, fontsize=30)\n",
        "    plt.subplots_adjust(left=0.20)\n",
        "    plt.subplots_adjust(right=0.80)\n",
        "    if(XX is not None and YY is not None and preds is not None):\n",
        "        plt.contourf(XX, YY, preds.reshape(XX.shape), 25, alpha = 1, cmap=cm.Spectral)\n",
        "        plt.contour(XX, YY, preds.reshape(XX.shape), levels=[.5], cmap=\"Greys\", vmin=0, vmax=.6)\n",
        "    plt.scatter(X[:, 0], X[:, 1], c=y.ravel(), s=40, cmap=plt.cm.Spectral, edgecolors='black')\n",
        "    if(file_name):\n",
        "        plt.savefig(file_name)\n",
        "        plt.close()\n",
        "import os\n",
        "def callback_numpy_plot(index, init_params):\n",
        "    plot_title = \"Iteration {:05}\".format(index)\n",
        "    file_name = \"numpy_model_{:05}.png\".format(index//1)\n",
        "    file_path = os.path.join(OUTPUT_DIR, file_name)\n",
        "    act = model.forward_prop(np.transpose(grid_2d),train_model=False)\n",
        "    prediction_probs = act[\"A\" + str(len(model.layer_names))]\n",
        "    prediction_probs = prediction_probs.reshape(prediction_probs.shape[1], 1)\n",
        "    make_plot(X_te, y_te, plot_title, file_name=file_path, XX=XX, YY=YY, preds=prediction_probs, dark=True)"
      ],
      "execution_count": null,
      "outputs": []
    },
    {
      "cell_type": "code",
      "metadata": {
        "id": "NEfq8tDmJenj",
        "colab_type": "code",
        "colab": {}
      },
      "source": [
        "model.reset()\n",
        "model.add(\"dense1\",X_tr.shape[1],500,\"relu\")\n",
        "model.add(\"dense2\",500,250,\"relu\")\n",
        "model.add(\"dense3\",250,150,\"sine\")\n",
        "model.add(\"dense4\",150,100,\"sine\")\n",
        "model.add(\"dense5\",100,60,\"sine\")\n",
        "model.add(\"dense6\",60,30,\"relu\")\n",
        "model.add(\"dense7\",30,15,\"tanh\")\n",
        "model.add(\"dense8\",15,1,\"sigmoid\")\n",
        "\n",
        "model.fit(X_tr,y_tr,0.005,15,\"Adam\",\"Binary\",mb=32,alpha_decay=True,print_cost=False,callback=callback_numpy_plot)"
      ],
      "execution_count": null,
      "outputs": []
    },
    {
      "cell_type": "code",
      "metadata": {
        "id": "rujhQigrR7uF",
        "colab_type": "code",
        "colab": {}
      },
      "source": [
        "act = model.forward_prop(np.transpose(grid_2d),train_model=True)\n",
        "prediction_probs_np = act[\"A\" + str(len(model.layer_names))]\n",
        "prediction_probs_np = prediction_probs_np.reshape(prediction_probs_np.shape[1], 1)\n",
        "make_plot(X_te, y_te, \"Final Iteration\", file_name=None, XX=XX, YY=YY, preds=prediction_probs_np, dark=True)"
      ],
      "execution_count": null,
      "outputs": []
    },
    {
      "cell_type": "code",
      "metadata": {
        "id": "4yEKK-cycFGZ",
        "colab_type": "code",
        "colab": {}
      },
      "source": [
        ""
      ],
      "execution_count": null,
      "outputs": []
    }
  ]
}