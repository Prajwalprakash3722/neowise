{
  "nbformat": 4,
  "nbformat_minor": 0,
  "metadata": {
    "colab": {
      "name": "circles-nw.ipynb",
      "provenance": [],
      "collapsed_sections": []
    },
    "kernelspec": {
      "name": "python3",
      "display_name": "Python 3"
    }
  },
  "cells": [
    {
      "cell_type": "code",
      "metadata": {
        "id": "IbllYH6Mxr7l",
        "colab_type": "code",
        "colab": {}
      },
      "source": [
        "!pip install neowise"
      ],
      "execution_count": null,
      "outputs": []
    },
    {
      "cell_type": "code",
      "metadata": {
        "id": "1oKi3E-dxvb2",
        "colab_type": "code",
        "colab": {}
      },
      "source": [
        "import neowise as nw\n",
        "from sklearn.datasets import make_circles\n",
        "import numpy as np\n",
        "import math\n",
        "import pandas as pd\n",
        "from pandas import DataFrame\n",
        "import matplotlib.pyplot as plt\n",
        "import seaborn as sns\n",
        "from matplotlib import pyplot\n",
        "from matplotlib import cm"
      ],
      "execution_count": null,
      "outputs": []
    },
    {
      "cell_type": "code",
      "metadata": {
        "id": "LRan2pAJyw64",
        "colab_type": "code",
        "colab": {}
      },
      "source": [
        "# Data Preparation --- Make Circles\n",
        "N_SAMPLES = 1000\n",
        "TEST_SIZE = 0.1\n",
        "X_data, y_data_t = make_circles(n_samples = N_SAMPLES, noise=0.05, random_state=100)\n",
        "y_data = y_data_t.reshape(N_SAMPLES,1)\n",
        "m = int(X_data.shape[0])\n",
        "m_tr = int(math.ceil((90/100)*m))\n",
        "m_cv = int(math.ceil((5/100)*m))\n",
        "m_te = m - (m_tr + m_cv)\n",
        "X_tr = np.zeros((m_tr,X_data.shape[1]))\n",
        "y_tr_t = np.zeros((m_tr,1))\n",
        "X_cv = np.zeros((m_cv,X_data.shape[1]))\n",
        "y_cv_t = np.zeros((m_cv,1))\n",
        "X_te = np.zeros((m_te,X_data.shape[1]))\n",
        "y_te_t = np.zeros((m_te,1))\n",
        "perm = np.random.permutation(m)\n",
        "p = perm.reshape(m,1)\n",
        "for i in range(0,m_tr):\n",
        "  X_tr[i] = X_data[p[i]]\n",
        "  y_tr_t[i] = y_data[p[i]]\n",
        "for i in range(0,m_cv):\n",
        "  X_cv[i] = X_data[p[i+m_tr]]\n",
        "  y_cv_t[i] = y_data[p[i+m_tr]]\n",
        "for i in range(0,m_te):\n",
        "  X_te[i] = X_data[p[i+m_tr+m_cv]]\n",
        "  y_te_t[i] = y_data[p[i+m_tr+m_cv]]\n",
        "y_tr = y_tr_t.T\n",
        "y_cv = y_cv_t.T\n",
        "y_te = y_te_t.T\n",
        " \n",
        "# Plotting the data\n",
        "df = DataFrame(dict(x=X_data[:,0], y=X_data[:,1], label=y_data_t))\n",
        "colors = {0:'red', 1:'blue'}\n",
        "fig, ax = plt.subplots()\n",
        "grouped = df.groupby('label')\n",
        "for key, group in grouped:\n",
        "    group.plot(ax=ax, kind='scatter', x='x', y='y', label=key, color=colors[key])\n",
        "plt.show()"
      ],
      "execution_count": null,
      "outputs": []
    },
    {
      "cell_type": "code",
      "metadata": {
        "id": "O3gp0jeAzQbZ",
        "colab_type": "code",
        "colab": {}
      },
      "source": [
        "model = nw.Model(X_tr,y_tr,X_te,y_te,X_cv,y_cv)"
      ],
      "execution_count": null,
      "outputs": []
    },
    {
      "cell_type": "code",
      "metadata": {
        "id": "JbkpV7N10WMX",
        "colab_type": "code",
        "colab": {}
      },
      "source": [
        "model.reset()\n",
        "model.add(\"dense1\",X_tr.shape[1],500,\"relu\")\n",
        "model.add(\"dense2\",500,250,\"relu\")\n",
        "model.add(\"dense3\",250,150,\"tanh\")\n",
        "model.add(\"dense4\",150,100,\"tanh\")\n",
        "model.add(\"dense5\",100,60,\"tanh\")\n",
        "model.add(\"dense6\",60,30,\"relu\")\n",
        "model.add(\"dense7\",30,15,\"tanh\")\n",
        "model.add(\"dense8\",15,1,\"sigmoid\")"
      ],
      "execution_count": null,
      "outputs": []
    },
    {
      "cell_type": "code",
      "metadata": {
        "id": "qHKxLnBN-RcD",
        "colab_type": "code",
        "colab": {}
      },
      "source": [
        "model.summary()"
      ],
      "execution_count": null,
      "outputs": []
    },
    {
      "cell_type": "code",
      "metadata": {
        "id": "L3ruSbrL-R4Z",
        "colab_type": "code",
        "colab": {}
      },
      "source": [
        "model.fit(X_tr,y_tr,0.005,50,\"Momentum\",\"Binary\",mb=16,alpha_decay=True)"
      ],
      "execution_count": null,
      "outputs": []
    },
    {
      "cell_type": "code",
      "metadata": {
        "id": "guSnh7SiA1E0",
        "colab_type": "code",
        "colab": {}
      },
      "source": [
        "model.test(X_te,y_te,\"Binary\")"
      ],
      "execution_count": null,
      "outputs": []
    },
    {
      "cell_type": "code",
      "metadata": {
        "id": "41gyFPVhBG6T",
        "colab_type": "code",
        "colab": {}
      },
      "source": [
        "model.plot(\"Cost\")"
      ],
      "execution_count": null,
      "outputs": []
    },
    {
      "cell_type": "code",
      "metadata": {
        "id": "TgczGmCfBPev",
        "colab_type": "code",
        "colab": {}
      },
      "source": [
        "model.plot(\"Accuracy\")"
      ],
      "execution_count": null,
      "outputs": []
    },
    {
      "cell_type": "markdown",
      "metadata": {
        "id": "p92jeeQ2U1nT",
        "colab_type": "text"
      },
      "source": [
        "## Replace contents of argument \"direc\" with the directory you want to save the images!\n",
        "\n",
        "## For saving and loading the model, pass the directory in which you want to save the file as the argument and append it by the name of the file with .h5 extension!"
      ]
    },
    {
      "cell_type": "code",
      "metadata": {
        "id": "yGanv8mKBhab",
        "colab_type": "code",
        "colab": {}
      },
      "source": [
        "model.plot(\"Cost\",animate=True,direc='/content/drive/My Drive/neowise/circles/circles-costs/')"
      ],
      "execution_count": null,
      "outputs": []
    },
    {
      "cell_type": "code",
      "metadata": {
        "id": "yzV7j8dYBrb3",
        "colab_type": "code",
        "colab": {}
      },
      "source": [
        "model.plot(\"Accuracy\",animate=True,direc='/content/drive/My Drive/neowise/circles/circles-accu/')"
      ],
      "execution_count": null,
      "outputs": []
    },
    {
      "cell_type": "code",
      "metadata": {
        "id": "MC99K17LCvWR",
        "colab_type": "code",
        "colab": {}
      },
      "source": [
        "model.save_model('/content/drive/My Drive/neowise/circles/circles.h5')"
      ],
      "execution_count": null,
      "outputs": []
    },
    {
      "cell_type": "code",
      "metadata": {
        "id": "W01qNXqnDUm7",
        "colab_type": "code",
        "colab": {}
      },
      "source": [
        "model1 = nw.Model(X_tr,y_tr,X_te,y_te,X_cv,y_cv)"
      ],
      "execution_count": null,
      "outputs": []
    },
    {
      "cell_type": "code",
      "metadata": {
        "id": "21HqhoELEIYL",
        "colab_type": "code",
        "colab": {}
      },
      "source": [
        "model1.load_model('/content/drive/My Drive/neowise/circles/circles.h5')"
      ],
      "execution_count": null,
      "outputs": []
    },
    {
      "cell_type": "code",
      "metadata": {
        "id": "vcDNCxXJHTTr",
        "colab_type": "code",
        "colab": {}
      },
      "source": [
        "model1.summary()"
      ],
      "execution_count": null,
      "outputs": []
    },
    {
      "cell_type": "code",
      "metadata": {
        "id": "x5T4ngTgH97g",
        "colab_type": "code",
        "colab": {}
      },
      "source": [
        "model1.test(X_te,y_te,\"Binary\")"
      ],
      "execution_count": null,
      "outputs": []
    },
    {
      "cell_type": "code",
      "metadata": {
        "id": "-dBlLahqI6bi",
        "colab_type": "code",
        "colab": {}
      },
      "source": [
        "sns.set_style(\"whitegrid\")\n",
        "GRID_X_START = 2.5\n",
        "GRID_X_END = -1.25\n",
        "GRID_Y_START = 1.5\n",
        "GRID_Y_END = -1.5\n",
        "OUTPUT_DIR = \"/content/drive/My Drive/neowise/circles/circles-vis\"\n",
        "grid = np.mgrid[GRID_X_START:GRID_X_END:100j,GRID_X_START:GRID_Y_END:100j]\n",
        "grid_2d = grid.reshape(2,-1)\n",
        "XX, YY = grid\n",
        "def make_plot(X, y, plot_name, file_name=None, XX=None, YY=None, preds=None, dark=False):\n",
        "    if (dark):\n",
        "        plt.style.use('dark_background')\n",
        "    else:\n",
        "        sns.set_style(\"whitegrid\")\n",
        "    plt.figure(figsize=(16,12))\n",
        "    axes = plt.gca()\n",
        "    axes.set(xlabel=\"$X_1$\", ylabel=\"$X_2$\")\n",
        "    plt.title(plot_name, fontsize=30)\n",
        "    plt.subplots_adjust(left=0.20)\n",
        "    plt.subplots_adjust(right=0.80)\n",
        "    if(XX is not None and YY is not None and preds is not None):\n",
        "        plt.contourf(XX, YY, preds.reshape(XX.shape), 25, alpha = 1, cmap=cm.Spectral)\n",
        "        plt.contour(XX, YY, preds.reshape(XX.shape), levels=[.5], cmap=\"Greys\", vmin=0, vmax=.6)\n",
        "    plt.scatter(X[:, 0], X[:, 1], c=y.ravel(), s=40, cmap=plt.cm.Spectral, edgecolors='black')\n",
        "    if(file_name):\n",
        "        plt.savefig(file_name)\n",
        "        plt.close()\n",
        "import os\n",
        "def callback_numpy_plot(index, init_params):\n",
        "    plot_title = \"Iteration {:05}\".format(index)\n",
        "    file_name = \"numpy_model_{:05}.png\".format(index//1)\n",
        "    file_path = os.path.join(OUTPUT_DIR, file_name)\n",
        "    act = model.forward_prop(np.transpose(grid_2d),train_model=False)\n",
        "    prediction_probs = act[\"A\" + str(len(model.layer_names))]\n",
        "    prediction_probs = prediction_probs.reshape(prediction_probs.shape[1], 1)\n",
        "    make_plot(X_te, y_te, plot_title, file_name=file_path, XX=XX, YY=YY, preds=prediction_probs, dark=True)"
      ],
      "execution_count": null,
      "outputs": []
    },
    {
      "cell_type": "code",
      "metadata": {
        "id": "FTysI3KtJfpG",
        "colab_type": "code",
        "colab": {}
      },
      "source": [
        "model.reset()\n",
        "model.add(\"dense1\",X_tr.shape[1],500,\"relu\")\n",
        "model.add(\"dense2\",500,250,\"relu\")\n",
        "model.add(\"dense3\",250,150,\"tanh\")\n",
        "model.add(\"dense4\",150,100,\"tanh\")\n",
        "model.add(\"dense5\",100,60,\"tanh\")\n",
        "model.add(\"dense6\",60,30,\"relu\")\n",
        "model.add(\"dense7\",30,15,\"tanh\")\n",
        "model.add(\"dense8\",15,1,\"sigmoid\")\n",
        "\n",
        "model.fit(X_tr,y_tr,0.005,50,\"Momentum\",\"Binary\",mb=16,alpha_decay=True,print_cost=False,callback=callback_numpy_plot)"
      ],
      "execution_count": null,
      "outputs": []
    },
    {
      "cell_type": "code",
      "metadata": {
        "id": "v6IzmHsrUo_P",
        "colab_type": "code",
        "colab": {}
      },
      "source": [
        "act = model.forward_prop(np.transpose(grid_2d),train_model=True)\n",
        "prediction_probs_np = act[\"A\" + str(len(model.layer_names))]\n",
        "prediction_probs_np = prediction_probs_np.reshape(prediction_probs_np.shape[1], 1)\n",
        "make_plot(X_te, y_te, \"Final Iteration\", file_name=None, XX=XX, YY=YY, preds=prediction_probs_np, dark=True)"
      ],
      "execution_count": null,
      "outputs": []
    },
    {
      "cell_type": "code",
      "metadata": {
        "id": "dD_QvDAIcBX4",
        "colab_type": "code",
        "colab": {}
      },
      "source": [
        ""
      ],
      "execution_count": null,
      "outputs": []
    }
  ]
}