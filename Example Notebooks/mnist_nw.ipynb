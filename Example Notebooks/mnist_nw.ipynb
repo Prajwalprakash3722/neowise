{
  "nbformat": 4,
  "nbformat_minor": 0,
  "metadata": {
    "colab": {
      "name": "mnist-nw.ipynb",
      "provenance": [],
      "collapsed_sections": []
    },
    "kernelspec": {
      "name": "python3",
      "display_name": "Python 3"
    }
  },
  "cells": [
    {
      "cell_type": "code",
      "metadata": {
        "id": "6KQndZIhthbx",
        "colab_type": "code",
        "colab": {}
      },
      "source": [
        "!pip install neowise"
      ],
      "execution_count": null,
      "outputs": []
    },
    {
      "cell_type": "code",
      "metadata": {
        "id": "vALgRk7Stq01",
        "colab_type": "code",
        "colab": {}
      },
      "source": [
        "import neowise as nw\n",
        "import numpy as np\n",
        "import matplotlib.pyplot as plt"
      ],
      "execution_count": null,
      "outputs": []
    },
    {
      "cell_type": "code",
      "metadata": {
        "id": "oTPDkVefwGgV",
        "colab_type": "code",
        "colab": {}
      },
      "source": [
        "from tensorflow.keras.datasets import mnist\n",
        "from keras.utils import to_categorical"
      ],
      "execution_count": null,
      "outputs": []
    },
    {
      "cell_type": "code",
      "metadata": {
        "id": "KcdayUlMwJwG",
        "colab_type": "code",
        "colab": {}
      },
      "source": [
        "# Data Preparation --- MNIST\n",
        "(X_train_orig, Y_train_orig), (X_test_orig, Y_test_orig) = mnist.load_data()\n",
        "\n",
        "# Preparing the data\n",
        "Y_tr_resh = Y_train_orig.reshape(60000, 1)\n",
        "Y_te_resh = Y_test_orig.reshape(10000, 1)\n",
        "Y_tr_T = to_categorical(Y_tr_resh, num_classes=10)\n",
        "Y_te_T = to_categorical(Y_te_resh, num_classes=10)\n",
        "y_tr = Y_tr_T.T\n",
        "y_te = Y_te_T.T\n",
        "\n",
        "\n",
        "# Flattening of inputs\n",
        "X_train_flatten = X_train_orig.reshape(X_train_orig.shape[0], -1).T\n",
        "X_test_flatten = X_test_orig.reshape(X_test_orig.shape[0], -1).T\n",
        "\n",
        "# Preprocessing of Inputs\n",
        "X_tr = X_train_flatten.T / 255.\n",
        "X_te = X_test_flatten.T / 255.\n",
        "num_classes = y_tr.shape[0]\n",
        "m_tr = X_tr.shape[0]\n",
        "m_te = X_te.shape[0]"
      ],
      "execution_count": null,
      "outputs": []
    },
    {
      "cell_type": "code",
      "metadata": {
        "id": "b9g8aXEjwO7-",
        "colab_type": "code",
        "colab": {}
      },
      "source": [
        "model = nw.Model(X_tr,y_tr,X_te,y_te,None,None)"
      ],
      "execution_count": null,
      "outputs": []
    },
    {
      "cell_type": "code",
      "metadata": {
        "id": "iGkQbn6w0S9u",
        "colab_type": "code",
        "colab": {}
      },
      "source": [
        "model.reset()\n",
        "model.add(\"dense1\",X_tr.shape[1],500,\"relu\")\n",
        "model.add(\"dense2\",500,250,\"relu\")\n",
        "model.add(\"dense3\",250,150,\"relu\")\n",
        "model.add(\"dense4\",150,100,\"sine\")\n",
        "model.add(\"dense5\",100,60,\"sine\")\n",
        "model.add(\"dense6\",60,30,\"relu\")\n",
        "model.add(\"dense7\",30,15,\"tanh\")\n",
        "model.add(\"dense8\",15,10,\"softmax\")"
      ],
      "execution_count": null,
      "outputs": []
    },
    {
      "cell_type": "code",
      "metadata": {
        "id": "LW43Pr1s-NDl",
        "colab_type": "code",
        "colab": {}
      },
      "source": [
        "model.summary()"
      ],
      "execution_count": null,
      "outputs": []
    },
    {
      "cell_type": "code",
      "metadata": {
        "id": "N3FQcIlG-N0E",
        "colab_type": "code",
        "colab": {}
      },
      "source": [
        "model.fit(X_tr,y_tr,0.0005,15,\"Adam\",\"Multi\",mb=512,alpha_decay=False)"
      ],
      "execution_count": null,
      "outputs": []
    },
    {
      "cell_type": "code",
      "metadata": {
        "id": "RV91MFnQAzBA",
        "colab_type": "code",
        "colab": {}
      },
      "source": [
        "model.test(X_te,y_te,\"Multi\")"
      ],
      "execution_count": null,
      "outputs": []
    },
    {
      "cell_type": "code",
      "metadata": {
        "id": "PJUjhBqeBDQj",
        "colab_type": "code",
        "colab": {}
      },
      "source": [
        "model.plot(\"Cost\")"
      ],
      "execution_count": null,
      "outputs": []
    },
    {
      "cell_type": "code",
      "metadata": {
        "id": "L6-nqk8cBNm1",
        "colab_type": "code",
        "colab": {}
      },
      "source": [
        "model.plot(\"Accuracy\")"
      ],
      "execution_count": null,
      "outputs": []
    },
    {
      "cell_type": "markdown",
      "metadata": {
        "id": "JcrL5tPpSKM7",
        "colab_type": "text"
      },
      "source": [
        "## Replace contents of argument \"direc\" with the directory you want to save the images!\n",
        "\n",
        "## For saving and loading the model, pass the directory in which you want to save the file as the argument and append it by the name of the file with .h5 extension!"
      ]
    },
    {
      "cell_type": "code",
      "metadata": {
        "id": "EkC3zD-cBath",
        "colab_type": "code",
        "colab": {}
      },
      "source": [
        "model.plot(\"Cost\",animate=True,direc='/content/drive/My Drive/neowise/mnist/mnist-costs/')"
      ],
      "execution_count": null,
      "outputs": []
    },
    {
      "cell_type": "code",
      "metadata": {
        "id": "5jeY95hrBmRi",
        "colab_type": "code",
        "colab": {}
      },
      "source": [
        "model.plot(\"Accuracy\",animate=True,direc='/content/drive/My Drive/neowise/mnist/mnist-accu/')"
      ],
      "execution_count": null,
      "outputs": []
    },
    {
      "cell_type": "code",
      "metadata": {
        "id": "03MmxGqTCtb6",
        "colab_type": "code",
        "colab": {}
      },
      "source": [
        "model.save_model('/content/drive/My Drive/neowise/mnist/mnist.h5')"
      ],
      "execution_count": null,
      "outputs": []
    },
    {
      "cell_type": "code",
      "metadata": {
        "id": "4kvqFD3SDSS6",
        "colab_type": "code",
        "colab": {}
      },
      "source": [
        "model1 = nw.Model(X_tr,y_tr,X_te,y_te,None,None)"
      ],
      "execution_count": null,
      "outputs": []
    },
    {
      "cell_type": "code",
      "metadata": {
        "id": "zrUiqI5oEGYv",
        "colab_type": "code",
        "colab": {}
      },
      "source": [
        "model1.load_model('/content/drive/My Drive/neowise/mnist/mnist.h5')"
      ],
      "execution_count": null,
      "outputs": []
    },
    {
      "cell_type": "code",
      "metadata": {
        "id": "K09ikCk8HRmt",
        "colab_type": "code",
        "colab": {}
      },
      "source": [
        "model1.summary()"
      ],
      "execution_count": null,
      "outputs": []
    },
    {
      "cell_type": "code",
      "metadata": {
        "id": "jK4Gsj2dH8Fs",
        "colab_type": "code",
        "colab": {}
      },
      "source": [
        "model1.test(X_te,y_te,\"Multi\")"
      ],
      "execution_count": null,
      "outputs": []
    },
    {
      "cell_type": "code",
      "metadata": {
        "id": "8u3CBbqAITwd",
        "colab_type": "code",
        "colab": {}
      },
      "source": [
        "act_te = model1.forward_prop(X_te,False)\n",
        "predictions_te = nw.functional.PredictMulti(act_te[\"A\" + str(len(model1.layer_names))])()\n",
        "ones_arr = np.ones(predictions_te.shape)\n",
        "temp1 = predictions_te == ones_arr\n",
        "ind = []\n",
        "for gee in range(0, temp1.shape[1]):\n",
        "    for jee in range(0, temp1.shape[0]):\n",
        "        if temp1[jee, gee] == True:\n",
        "            ind.append(jee)\n",
        "ind_arr = np.array(ind)"
      ],
      "execution_count": null,
      "outputs": []
    },
    {
      "cell_type": "code",
      "metadata": {
        "id": "WKmjLS8AIU-n",
        "colab_type": "code",
        "colab": {}
      },
      "source": [
        "perm = np.random.permutation(9999)\n",
        "l = 0\n",
        "\n",
        "fig, axs = plt.subplots(5, 5, figsize=(100,100))\n",
        "\n",
        "for g in range(0,5):\n",
        "  for h in range(0,5):\n",
        "    foo = perm[l]\n",
        "    second_image = X_test_orig[foo, :]\n",
        "    second_label = Y_te_resh[foo]\n",
        "    second_pred_label = ind_arr[foo]\n",
        "    axs[h,g].set_title('Digit Label: {} Predicted Label: {}'.format(second_label,second_pred_label),fontsize=50)\n",
        "    axs[h,g].imshow(second_image,cmap='gray_r')\n",
        "    l = l+1"
      ],
      "execution_count": null,
      "outputs": []
    },
    {
      "cell_type": "code",
      "metadata": {
        "id": "hhNhMlX8L-in",
        "colab_type": "code",
        "colab": {}
      },
      "source": [
        ""
      ],
      "execution_count": null,
      "outputs": []
    }
  ]
}
